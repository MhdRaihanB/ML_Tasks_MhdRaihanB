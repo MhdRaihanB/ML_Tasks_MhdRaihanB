{
  "cells": [
    {
      "cell_type": "markdown",
      "metadata": {
        "id": "view-in-github",
        "colab_type": "text"
      },
      "source": [
        "<a href=\"https://colab.research.google.com/github/MhdRaihanB/ML_Tasks_MhdRaihanB/blob/main/10thWeekTasks/NN%20D2L_House%20Price_Muhammad%20Raihan%20B_1103213077.ipynb\" target=\"_parent\"><img src=\"https://colab.research.google.com/assets/colab-badge.svg\" alt=\"Open In Colab\"/></a>"
      ]
    },
    {
      "cell_type": "markdown",
      "metadata": {
        "id": "2Y3k8ygN8X8Q"
      },
      "source": [
        "Nama : Muhammad Raihan Butar-Butar\n",
        "\n",
        "NIM : 1103213077\n",
        "\n",
        "Tugas Lecture 10 Neural Network D2L\n",
        "\n",
        "Dataset : housepricedata.csv\n",
        "\n",
        "Dokumentasi ChatGPT : https://chatgpt.com/share/bc494e35-f9cb-4df6-bd15-3e809d74ef4a"
      ]
    },
    {
      "cell_type": "markdown",
      "metadata": {
        "id": "9G53JNts847i"
      },
      "source": [
        "# IMPORT LIBRARY"
      ]
    },
    {
      "cell_type": "code",
      "execution_count": 36,
      "metadata": {
        "id": "Y-uwGwgx86iC"
      },
      "outputs": [],
      "source": [
        "import pandas as pd\n",
        "import torch\n",
        "from torch import nn\n",
        "from torch.utils.data import DataLoader, TensorDataset\n",
        "from sklearn.model_selection import train_test_split\n",
        "from sklearn.preprocessing import StandardScaler\n",
        "import numpy as np\n",
        "from google.colab import drive"
      ]
    },
    {
      "cell_type": "markdown",
      "metadata": {
        "id": "mPTukLn48XX9"
      },
      "source": [
        "# MOUNT GOOGLE DRIVE"
      ]
    },
    {
      "cell_type": "code",
      "execution_count": 37,
      "metadata": {
        "colab": {
          "base_uri": "https://localhost:8080/"
        },
        "id": "_BaSJXZE8UpG",
        "outputId": "5f764205-5eb2-4201-bd2c-c19d601e5244"
      },
      "outputs": [
        {
          "output_type": "stream",
          "name": "stdout",
          "text": [
            "Drive already mounted at /content/drive; to attempt to forcibly remount, call drive.mount(\"/content/drive\", force_remount=True).\n"
          ]
        }
      ],
      "source": [
        "# Mount Google Drive\n",
        "drive.mount('/content/drive')"
      ]
    },
    {
      "cell_type": "markdown",
      "metadata": {
        "id": "HyZvFMnv8ziP"
      },
      "source": [
        "# LOAD DATASET"
      ]
    },
    {
      "cell_type": "code",
      "execution_count": 38,
      "metadata": {
        "colab": {
          "base_uri": "https://localhost:8080/"
        },
        "id": "M7DKVxNT81EO",
        "outputId": "bc7e5b88-35b9-4db3-dfdd-cee8ed5455b3"
      },
      "outputs": [
        {
          "output_type": "stream",
          "name": "stdout",
          "text": [
            "   LotArea  OverallQual  OverallCond  TotalBsmtSF  FullBath  HalfBath  \\\n",
            "0     8450            7            5          856         2         1   \n",
            "1     9600            6            8         1262         2         0   \n",
            "2    11250            7            5          920         2         1   \n",
            "3     9550            7            5          756         1         0   \n",
            "4    14260            8            5         1145         2         1   \n",
            "\n",
            "   BedroomAbvGr  TotRmsAbvGrd  Fireplaces  GarageArea  AboveMedianPrice  \n",
            "0             3             8           0         548                 1  \n",
            "1             3             6           1         460                 1  \n",
            "2             3             6           1         608                 1  \n",
            "3             3             7           1         642                 0  \n",
            "4             4             9           1         836                 1  \n"
          ]
        }
      ],
      "source": [
        "# Tentukan path ke file CSV\n",
        "file_path = '/content/drive/MyDrive/Dataset/housepricedata.csv'\n",
        "\n",
        "# Baca file CSV\n",
        "df = pd.read_csv(file_path)\n",
        "\n",
        "# Tampilkan beberapa baris pertama dari dataframe\n",
        "print(df.head())"
      ]
    },
    {
      "cell_type": "markdown",
      "metadata": {
        "id": "K6dEs6TU9GZK"
      },
      "source": [
        "# PREPROCESSING"
      ]
    },
    {
      "cell_type": "code",
      "execution_count": 39,
      "metadata": {
        "id": "0jQ6EX5q9IDK"
      },
      "outputs": [],
      "source": [
        "# Membagi fitur dan target\n",
        "X = df.iloc[:, :-1].values\n",
        "y = df.iloc[:, -1].values\n",
        "\n",
        "# Membagi data menjadi train dan test\n",
        "X_train, X_test, y_train, y_test = train_test_split(X, y, test_size=0.2, random_state=42)\n",
        "\n",
        "# Normalisasi data\n",
        "scaler = StandardScaler()\n",
        "X_train = scaler.fit_transform(X_train)\n",
        "X_test = scaler.transform(X_test)\n",
        "\n",
        "# Konversi ke tensor\n",
        "X_train = torch.tensor(X_train, dtype=torch.float32)\n",
        "y_train = torch.tensor(y_train, dtype=torch.float32).view(-1, 1)\n",
        "X_test = torch.tensor(X_test, dtype=torch.float32)\n",
        "y_test = torch.tensor(y_test, dtype=torch.float32).view(-1, 1)\n",
        "\n",
        "# Membuat DataLoader\n",
        "train_dataset = TensorDataset(X_train, y_train)\n",
        "test_dataset = TensorDataset(X_test, y_test)\n",
        "train_loader = DataLoader(train_dataset, batch_size=32, shuffle=True)\n",
        "test_loader = DataLoader(test_dataset, batch_size=32, shuffle=False)"
      ]
    },
    {
      "cell_type": "markdown",
      "source": [
        "# MODELING"
      ],
      "metadata": {
        "id": "nINkf5K-A7Wp"
      }
    },
    {
      "cell_type": "code",
      "source": [
        "# Mendefinisikan arsitektur neural network\n",
        "class HousePriceModel(nn.Module):\n",
        "    def __init__(self):\n",
        "        super(HousePriceModel, self).__init__()\n",
        "        self.network = nn.Sequential(\n",
        "            nn.Linear(X_train.shape[1], 128),\n",
        "            nn.ReLU(),\n",
        "            nn.Linear(128, 64),\n",
        "            nn.ReLU(),\n",
        "            nn.Linear(64, 1)\n",
        "        )\n",
        "\n",
        "    def forward(self, x):\n",
        "        return self.network(x)\n",
        "\n",
        "model = HousePriceModel()\n",
        "\n",
        "# Definisi fungsi loss dan optimizer\n",
        "criterion = nn.MSELoss()\n",
        "optimizer = torch.optim.Adam(model.parameters(), lr=0.001)\n",
        "\n",
        "# Fungsi pelatihan\n",
        "def train(model, train_loader, criterion, optimizer, epochs=100):\n",
        "    model.train()\n",
        "    for epoch in range(epochs):\n",
        "        for X_batch, y_batch in train_loader:\n",
        "            # Forward pass\n",
        "            predictions = model(X_batch)\n",
        "            loss = criterion(predictions, y_batch)\n",
        "\n",
        "            # Backward pass\n",
        "            optimizer.zero_grad()\n",
        "            loss.backward()\n",
        "            optimizer.step()\n",
        "\n",
        "        if (epoch+1) % 10 == 0:\n",
        "            print(f'Epoch [{epoch+1}/{epochs}], Loss: {loss.item():.4f}')\n",
        "\n",
        "# Melatih model\n",
        "train(model, train_loader, criterion, optimizer, epochs=100)\n"
      ],
      "metadata": {
        "colab": {
          "base_uri": "https://localhost:8080/"
        },
        "id": "TfvbD2KtA8oM",
        "outputId": "cfe0dcf5-70d9-42dd-f257-8282484c08ec"
      },
      "execution_count": 40,
      "outputs": [
        {
          "output_type": "stream",
          "name": "stdout",
          "text": [
            "Epoch [10/100], Loss: 0.0751\n",
            "Epoch [20/100], Loss: 0.0056\n",
            "Epoch [30/100], Loss: 0.0552\n",
            "Epoch [40/100], Loss: 0.0176\n",
            "Epoch [50/100], Loss: 0.0231\n",
            "Epoch [60/100], Loss: 0.0167\n",
            "Epoch [70/100], Loss: 0.0737\n",
            "Epoch [80/100], Loss: 0.0103\n",
            "Epoch [90/100], Loss: 0.0058\n",
            "Epoch [100/100], Loss: 0.0052\n"
          ]
        }
      ]
    },
    {
      "cell_type": "markdown",
      "source": [
        "# EVALUASI MODEL"
      ],
      "metadata": {
        "id": "vzBAlcTNBCj0"
      }
    },
    {
      "cell_type": "code",
      "source": [
        "# Fungsi evaluasi\n",
        "def evaluate(model, test_loader, criterion):\n",
        "    model.eval()\n",
        "    with torch.no_grad():\n",
        "        losses = []\n",
        "        for X_batch, y_batch in test_loader:\n",
        "            predictions = model(X_batch)\n",
        "            loss = criterion(predictions, y_batch)\n",
        "            losses.append(loss.item())\n",
        "        avg_loss = sum(losses) / len(losses)\n",
        "    return avg_loss\n",
        "\n",
        "# Evaluasi model\n",
        "test_loss = evaluate(model, test_loader, criterion)\n",
        "print(f'Test Loss: {test_loss:.4f}')\n"
      ],
      "metadata": {
        "colab": {
          "base_uri": "https://localhost:8080/"
        },
        "id": "mt1DMDhzBD6W",
        "outputId": "11f5139a-faaf-43c5-f331-3d9e9c7722f8"
      },
      "execution_count": 41,
      "outputs": [
        {
          "output_type": "stream",
          "name": "stdout",
          "text": [
            "Test Loss: 0.0806\n"
          ]
        }
      ]
    },
    {
      "cell_type": "markdown",
      "source": [
        "# VISUALISASI MODEL"
      ],
      "metadata": {
        "id": "PnobQ7sQBbpS"
      }
    },
    {
      "cell_type": "code",
      "source": [
        "# Fungsi untuk membuat plot prediksi vs label sebenarnya\n",
        "def plot_predictions(model, test_loader):\n",
        "    model.eval()\n",
        "    with torch.no_grad():\n",
        "        predictions = []\n",
        "        labels = []\n",
        "        for X_batch, y_batch in test_loader:\n",
        "            preds = model(X_batch)\n",
        "            predictions.extend(preds.tolist())\n",
        "            labels.extend(y_batch.tolist())\n",
        "\n",
        "        plt.figure(figsize=(10, 6))\n",
        "        plt.scatter(labels, predictions, alpha=0.5)\n",
        "        plt.xlabel('Actual Price')\n",
        "        plt.ylabel('Predicted Price')\n",
        "        plt.title('Actual vs Predicted House Prices')\n",
        "\n",
        "        # Menambahkan garis diagonal putus-putus\n",
        "        x = np.linspace(min(min(labels), min(predictions)), max(max(labels), max(predictions)), 100)\n",
        "        plt.plot(x, x, 'r--')\n",
        "\n",
        "        plt.grid(True)\n",
        "        plt.show()\n",
        "\n",
        "# Membuat plot\n",
        "plot_predictions(model, test_loader)"
      ],
      "metadata": {
        "colab": {
          "base_uri": "https://localhost:8080/",
          "height": 564
        },
        "id": "nShxjGiDBc_t",
        "outputId": "38d28577-1bba-4223-c072-d9ce6f10026c"
      },
      "execution_count": 42,
      "outputs": [
        {
          "output_type": "display_data",
          "data": {
            "text/plain": [
              "<Figure size 1000x600 with 1 Axes>"
            ],
            "image/png": "[encoded data removed]"
          },
          "metadata": {}
        }
      ]
    }
  ],
  "metadata": {
    "colab": {
      "provenance": [],
      "authorship_tag": "ABX9TyMeHNNq0FwIEXa8iWzJMblH",
      "include_colab_link": true
    },
    "kernelspec": {
      "display_name": "Python 3",
      "name": "python3"
    },
    "language_info": {
      "name": "python"
    }
  },
  "nbformat": 4,
  "nbformat_minor": 0
}