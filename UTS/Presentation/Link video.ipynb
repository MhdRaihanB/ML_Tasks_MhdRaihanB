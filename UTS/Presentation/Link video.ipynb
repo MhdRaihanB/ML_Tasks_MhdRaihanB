{
  "nbformat": 4,
  "nbformat_minor": 0,
  "metadata": {
    "colab": {
      "provenance": [],
      "authorship_tag": "ABX9TyNsfNykvJxG2AvpSImIgRsl",
      "include_colab_link": true
    },
    "kernelspec": {
      "name": "python3",
      "display_name": "Python 3"
    },
    "language_info": {
      "name": "python"
    }
  },
  "cells": [
    {
      "cell_type": "markdown",
      "metadata": {
        "id": "view-in-github",
        "colab_type": "text"
      },
      "source": [
        "<a href=\"https://colab.research.google.com/github/MhdRaihanB/ML_Tasks_MhdRaihanB/blob/main/UTS/Presentation/Link%20video.ipynb\" target=\"_parent\"><img src=\"https://colab.research.google.com/assets/colab-badge.svg\" alt=\"Open In Colab\"/></a>"
      ]
    },
    {
      "cell_type": "markdown",
      "source": [
        "LINK VIDEO : https://drive.google.com/file/d/1Xitr1BteJ18lHTytMm9T_EIiVMS4Wwj1/view?usp=sharing"
      ],
      "metadata": {
        "id": "_N0Ozj0BUel4"
      }
    }
  ]
}