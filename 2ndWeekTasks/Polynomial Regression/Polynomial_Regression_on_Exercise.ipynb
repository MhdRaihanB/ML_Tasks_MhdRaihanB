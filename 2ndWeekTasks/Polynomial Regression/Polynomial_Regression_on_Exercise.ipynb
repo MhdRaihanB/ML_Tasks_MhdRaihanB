{
  "nbformat": 4,
  "nbformat_minor": 0,
  "metadata": {
    "colab": {
      "provenance": [],
      "authorship_tag": "ABX9TyP4l6QfVOtABWC3WZq32EqB",
      "include_colab_link": true
    },
    "kernelspec": {
      "name": "python3",
      "display_name": "Python 3"
    },
    "language_info": {
      "name": "python"
    }
  },
  "cells": [
    {
      "cell_type": "markdown",
      "metadata": {
        "id": "view-in-github",
        "colab_type": "text"
      },
      "source": [
        "<a href=\"https://colab.research.google.com/github/MhdRaihanB/ML_Tasks_MhdRaihanB/blob/main/2ndWeekTasks/Polynomial%20Regression/Polynomial_Regression_on_Exercise.ipynb\" target=\"_parent\"><img src=\"https://colab.research.google.com/assets/colab-badge.svg\" alt=\"Open In Colab\"/></a>"
      ]
    },
    {
      "cell_type": "markdown",
      "source": [
        "Nama : Muhammad Raihan Butar-Butar\n",
        "\n",
        "NIM : 1103213077\n",
        "\n",
        "Tugas Lecture 2 Polynomial Regression\n",
        "\n",
        "Dataset : exercise.csv\n",
        "\n",
        "Dokumentasi ChatGPT : https://chat.openai.com/share/17426f08-91a4-4b41-9cab-870a3eb9c0cb"
      ],
      "metadata": {
        "id": "KF2uECzjh3Ky"
      }
    },
    {
      "cell_type": "markdown",
      "source": [
        "# 1. MOUNT GOOGLE DRIVE"
      ],
      "metadata": {
        "id": "FRm-d_1CiG-s"
      }
    },
    {
      "cell_type": "code",
      "execution_count": 40,
      "metadata": {
        "colab": {
          "base_uri": "https://localhost:8080/"
        },
        "id": "l7iEh18vh1H-",
        "outputId": "cf939894-c541-4bb9-e6b2-28e20219b382"
      },
      "outputs": [
        {
          "output_type": "stream",
          "name": "stdout",
          "text": [
            "Drive already mounted at /content/drive; to attempt to forcibly remount, call drive.mount(\"/content/drive\", force_remount=True).\n"
          ]
        }
      ],
      "source": [
        "from google.colab import drive\n",
        "\n",
        "# Menghubungkan Google Drive\n",
        "drive.mount('/content/drive')"
      ]
    },
    {
      "cell_type": "markdown",
      "source": [
        "# -MEMBUAT MODEL POLYNOMIAL REGRESSION-\n",
        "\n",
        "Prompt ChatGPT : tolong buatkan model polynomial regression dengan dataset exercise.csv"
      ],
      "metadata": {
        "id": "6HseOB8pmFj4"
      }
    },
    {
      "cell_type": "markdown",
      "source": [
        "# 2. IMPORT LIBRARY"
      ],
      "metadata": {
        "id": "uCzZPK14nf7g"
      }
    },
    {
      "cell_type": "code",
      "source": [
        "# Import library yang diperlukan\n",
        "import pandas as pd\n",
        "import numpy as np\n",
        "from sklearn.model_selection import train_test_split\n",
        "from sklearn.preprocessing import PolynomialFeatures\n",
        "from sklearn.linear_model import LinearRegression\n",
        "from sklearn.metrics import mean_squared_error, mean_absolute_error, r2_score\n",
        "import matplotlib.pyplot as plt\n",
        "\n",
        "df = pd.read_csv('/content/drive/MyDrive/Dataset/exercise.csv')"
      ],
      "metadata": {
        "id": "P2_LKMmYmQJc"
      },
      "execution_count": 41,
      "outputs": []
    },
    {
      "cell_type": "code",
      "source": [
        "df.head() # menampilkan data"
      ],
      "metadata": {
        "colab": {
          "base_uri": "https://localhost:8080/",
          "height": 206
        },
        "id": "qCC68fdboChj",
        "outputId": "c23544ca-9519-492b-f36e-5f2dfabe44e4"
      },
      "execution_count": 42,
      "outputs": [
        {
          "output_type": "execute_result",
          "data": {
            "text/plain": [
              "    User_ID  Gender  Age  Height  Weight  Duration  Heart_Rate  Body_Temp\n",
              "0  14733363    male   68   190.0    94.0      29.0       105.0       40.8\n",
              "1  14861698  female   20   166.0    60.0      14.0        94.0       40.3\n",
              "2  11179863    male   69   179.0    79.0       5.0        88.0       38.7\n",
              "3  16180408  female   34   179.0    71.0      13.0       100.0       40.5\n",
              "4  17771927  female   27   154.0    58.0      10.0        81.0       39.8"
            ],
            "text/html": [
              "\n",
              "  <div id=\"df-782b1a7d-373a-41d9-814f-14efb441c867\" class=\"colab-df-container\">\n",
              "    <div>\n",
              "<style scoped>\n",
              "    .dataframe tbody tr th:only-of-type {\n",
              "        vertical-align: middle;\n",
              "    }\n",
              "\n",
              "    .dataframe tbody tr th {\n",
              "        vertical-align: top;\n",
              "    }\n",
              "\n",
              "    .dataframe thead th {\n",
              "        text-align: right;\n",
              "    }\n",
              "</style>\n",
              "<table border=\"1\" class=\"dataframe\">\n",
              "  <thead>\n",
              "    <tr style=\"text-align: right;\">\n",
              "      <th></th>\n",
              "      <th>User_ID</th>\n",
              "      <th>Gender</th>\n",
              "      <th>Age</th>\n",
              "      <th>Height</th>\n",
              "      <th>Weight</th>\n",
              "      <th>Duration</th>\n",
              "      <th>Heart_Rate</th>\n",
              "      <th>Body_Temp</th>\n",
              "    </tr>\n",
              "  </thead>\n",
              "  <tbody>\n",
              "    <tr>\n",
              "      <th>0</th>\n",
              "      <td>14733363</td>\n",
              "      <td>male</td>\n",
              "      <td>68</td>\n",
              "      <td>190.0</td>\n",
              "      <td>94.0</td>\n",
              "      <td>29.0</td>\n",
              "      <td>105.0</td>\n",
              "      <td>40.8</td>\n",
              "    </tr>\n",
              "    <tr>\n",
              "      <th>1</th>\n",
              "      <td>14861698</td>\n",
              "      <td>female</td>\n",
              "      <td>20</td>\n",
              "      <td>166.0</td>\n",
              "      <td>60.0</td>\n",
              "      <td>14.0</td>\n",
              "      <td>94.0</td>\n",
              "      <td>40.3</td>\n",
              "    </tr>\n",
              "    <tr>\n",
              "      <th>2</th>\n",
              "      <td>11179863</td>\n",
              "      <td>male</td>\n",
              "      <td>69</td>\n",
              "      <td>179.0</td>\n",
              "      <td>79.0</td>\n",
              "      <td>5.0</td>\n",
              "      <td>88.0</td>\n",
              "      <td>38.7</td>\n",
              "    </tr>\n",
              "    <tr>\n",
              "      <th>3</th>\n",
              "      <td>16180408</td>\n",
              "      <td>female</td>\n",
              "      <td>34</td>\n",
              "      <td>179.0</td>\n",
              "      <td>71.0</td>\n",
              "      <td>13.0</td>\n",
              "      <td>100.0</td>\n",
              "      <td>40.5</td>\n",
              "    </tr>\n",
              "    <tr>\n",
              "      <th>4</th>\n",
              "      <td>17771927</td>\n",
              "      <td>female</td>\n",
              "      <td>27</td>\n",
              "      <td>154.0</td>\n",
              "      <td>58.0</td>\n",
              "      <td>10.0</td>\n",
              "      <td>81.0</td>\n",
              "      <td>39.8</td>\n",
              "    </tr>\n",
              "  </tbody>\n",
              "</table>\n",
              "</div>\n",
              "    <div class=\"colab-df-buttons\">\n",
              "\n",
              "  <div class=\"colab-df-container\">\n",
              "    <button class=\"colab-df-convert\" onclick=\"convertToInteractive('df-782b1a7d-373a-41d9-814f-14efb441c867')\"\n",
              "            title=\"Convert this dataframe to an interactive table.\"\n",
              "            style=\"display:none;\">\n",
              "\n",
              "  <svg xmlns=\"http://www.w3.org/2000/svg\" height=\"24px\" viewBox=\"0 -960 960 960\">\n",
              "    <path d=\"M120-120v-720h720v720H120Zm60-500h600v-160H180v160Zm220 220h160v-160H400v160Zm0 220h160v-160H400v160ZM180-400h160v-160H180v160Zm440 0h160v-160H620v160ZM180-180h160v-160H180v160Zm440 0h160v-160H620v160Z\"/>\n",
              "  </svg>\n",
              "    </button>\n",
              "\n",
              "  <style>\n",
              "    .colab-df-container {\n",
              "      display:flex;\n",
              "      gap: 12px;\n",
              "    }\n",
              "\n",
              "    .colab-df-convert {\n",
              "      background-color: #E8F0FE;\n",
              "      border: none;\n",
              "      border-radius: 50%;\n",
              "      cursor: pointer;\n",
              "      display: none;\n",
              "      fill: #1967D2;\n",
              "      height: 32px;\n",
              "      padding: 0 0 0 0;\n",
              "      width: 32px;\n",
              "    }\n",
              "\n",
              "    .colab-df-convert:hover {\n",
              "      background-color: #E2EBFA;\n",
              "      box-shadow: 0px 1px 2px rgba(60, 64, 67, 0.3), 0px 1px 3px 1px rgba(60, 64, 67, 0.15);\n",
              "      fill: #174EA6;\n",
              "    }\n",
              "\n",
              "    .colab-df-buttons div {\n",
              "      margin-bottom: 4px;\n",
              "    }\n",
              "\n",
              "    [theme=dark] .colab-df-convert {\n",
              "      background-color: #3B4455;\n",
              "      fill: #D2E3FC;\n",
              "    }\n",
              "\n",
              "    [theme=dark] .colab-df-convert:hover {\n",
              "      background-color: #434B5C;\n",
              "      box-shadow: 0px 1px 3px 1px rgba(0, 0, 0, 0.15);\n",
              "      filter: drop-shadow(0px 1px 2px rgba(0, 0, 0, 0.3));\n",
              "      fill: #FFFFFF;\n",
              "    }\n",
              "  </style>\n",
              "\n",
              "    <script>\n",
              "      const buttonEl =\n",
              "        document.querySelector('#df-782b1a7d-373a-41d9-814f-14efb441c867 button.colab-df-convert');\n",
              "      buttonEl.style.display =\n",
              "        google.colab.kernel.accessAllowed ? 'block' : 'none';\n",
              "\n",
              "      async function convertToInteractive(key) {\n",
              "        const element = document.querySelector('#df-782b1a7d-373a-41d9-814f-14efb441c867');\n",
              "        const dataTable =\n",
              "          await google.colab.kernel.invokeFunction('convertToInteractive',\n",
              "                                                    [key], {});\n",
              "        if (!dataTable) return;\n",
              "\n",
              "        const docLinkHtml = 'Like what you see? Visit the ' +\n",
              "          '<a target=\"_blank\" href=https://colab.research.google.com/notebooks/data_table.ipynb>data table notebook</a>'\n",
              "          + ' to learn more about interactive tables.';\n",
              "        element.innerHTML = '';\n",
              "        dataTable['output_type'] = 'display_data';\n",
              "        await google.colab.output.renderOutput(dataTable, element);\n",
              "        const docLink = document.createElement('div');\n",
              "        docLink.innerHTML = docLinkHtml;\n",
              "        element.appendChild(docLink);\n",
              "      }\n",
              "    </script>\n",
              "  </div>\n",
              "\n",
              "\n",
              "<div id=\"df-a1c1ed88-2b35-4749-8f4d-8a7e6bd242a6\">\n",
              "  <button class=\"colab-df-quickchart\" onclick=\"quickchart('df-a1c1ed88-2b35-4749-8f4d-8a7e6bd242a6')\"\n",
              "            title=\"Suggest charts\"\n",
              "            style=\"display:none;\">\n",
              "\n",
              "<svg xmlns=\"http://www.w3.org/2000/svg\" height=\"24px\"viewBox=\"0 0 24 24\"\n",
              "     width=\"24px\">\n",
              "    <g>\n",
              "        <path d=\"M19 3H5c-1.1 0-2 .9-2 2v14c0 1.1.9 2 2 2h14c1.1 0 2-.9 2-2V5c0-1.1-.9-2-2-2zM9 17H7v-7h2v7zm4 0h-2V7h2v10zm4 0h-2v-4h2v4z\"/>\n",
              "    </g>\n",
              "</svg>\n",
              "  </button>\n",
              "\n",
              "<style>\n",
              "  .colab-df-quickchart {\n",
              "      --bg-color: #E8F0FE;\n",
              "      --fill-color: #1967D2;\n",
              "      --hover-bg-color: #E2EBFA;\n",
              "      --hover-fill-color: #174EA6;\n",
              "      --disabled-fill-color: #AAA;\n",
              "      --disabled-bg-color: #DDD;\n",
              "  }\n",
              "\n",
              "  [theme=dark] .colab-df-quickchart {\n",
              "      --bg-color: #3B4455;\n",
              "      --fill-color: #D2E3FC;\n",
              "      --hover-bg-color: #434B5C;\n",
              "      --hover-fill-color: #FFFFFF;\n",
              "      --disabled-bg-color: #3B4455;\n",
              "      --disabled-fill-color: #666;\n",
              "  }\n",
              "\n",
              "  .colab-df-quickchart {\n",
              "    background-color: var(--bg-color);\n",
              "    border: none;\n",
              "    border-radius: 50%;\n",
              "    cursor: pointer;\n",
              "    display: none;\n",
              "    fill: var(--fill-color);\n",
              "    height: 32px;\n",
              "    padding: 0;\n",
              "    width: 32px;\n",
              "  }\n",
              "\n",
              "  .colab-df-quickchart:hover {\n",
              "    background-color: var(--hover-bg-color);\n",
              "    box-shadow: 0 1px 2px rgba(60, 64, 67, 0.3), 0 1px 3px 1px rgba(60, 64, 67, 0.15);\n",
              "    fill: var(--button-hover-fill-color);\n",
              "  }\n",
              "\n",
              "  .colab-df-quickchart-complete:disabled,\n",
              "  .colab-df-quickchart-complete:disabled:hover {\n",
              "    background-color: var(--disabled-bg-color);\n",
              "    fill: var(--disabled-fill-color);\n",
              "    box-shadow: none;\n",
              "  }\n",
              "\n",
              "  .colab-df-spinner {\n",
              "    border: 2px solid var(--fill-color);\n",
              "    border-color: transparent;\n",
              "    border-bottom-color: var(--fill-color);\n",
              "    animation:\n",
              "      spin 1s steps(1) infinite;\n",
              "  }\n",
              "\n",
              "  @keyframes spin {\n",
              "    0% {\n",
              "      border-color: transparent;\n",
              "      border-bottom-color: var(--fill-color);\n",
              "      border-left-color: var(--fill-color);\n",
              "    }\n",
              "    20% {\n",
              "      border-color: transparent;\n",
              "      border-left-color: var(--fill-color);\n",
              "      border-top-color: var(--fill-color);\n",
              "    }\n",
              "    30% {\n",
              "      border-color: transparent;\n",
              "      border-left-color: var(--fill-color);\n",
              "      border-top-color: var(--fill-color);\n",
              "      border-right-color: var(--fill-color);\n",
              "    }\n",
              "    40% {\n",
              "      border-color: transparent;\n",
              "      border-right-color: var(--fill-color);\n",
              "      border-top-color: var(--fill-color);\n",
              "    }\n",
              "    60% {\n",
              "      border-color: transparent;\n",
              "      border-right-color: var(--fill-color);\n",
              "    }\n",
              "    80% {\n",
              "      border-color: transparent;\n",
              "      border-right-color: var(--fill-color);\n",
              "      border-bottom-color: var(--fill-color);\n",
              "    }\n",
              "    90% {\n",
              "      border-color: transparent;\n",
              "      border-bottom-color: var(--fill-color);\n",
              "    }\n",
              "  }\n",
              "</style>\n",
              "\n",
              "  <script>\n",
              "    async function quickchart(key) {\n",
              "      const quickchartButtonEl =\n",
              "        document.querySelector('#' + key + ' button');\n",
              "      quickchartButtonEl.disabled = true;  // To prevent multiple clicks.\n",
              "      quickchartButtonEl.classList.add('colab-df-spinner');\n",
              "      try {\n",
              "        const charts = await google.colab.kernel.invokeFunction(\n",
              "            'suggestCharts', [key], {});\n",
              "      } catch (error) {\n",
              "        console.error('Error during call to suggestCharts:', error);\n",
              "      }\n",
              "      quickchartButtonEl.classList.remove('colab-df-spinner');\n",
              "      quickchartButtonEl.classList.add('colab-df-quickchart-complete');\n",
              "    }\n",
              "    (() => {\n",
              "      let quickchartButtonEl =\n",
              "        document.querySelector('#df-a1c1ed88-2b35-4749-8f4d-8a7e6bd242a6 button');\n",
              "      quickchartButtonEl.style.display =\n",
              "        google.colab.kernel.accessAllowed ? 'block' : 'none';\n",
              "    })();\n",
              "  </script>\n",
              "</div>\n",
              "    </div>\n",
              "  </div>\n"
            ],
            "application/vnd.google.colaboratory.intrinsic+json": {
              "type": "dataframe",
              "variable_name": "df",
              "summary": "{\n  \"name\": \"df\",\n  \"rows\": 15000,\n  \"fields\": [\n    {\n      \"column\": \"User_ID\",\n      \"properties\": {\n        \"dtype\": \"number\",\n        \"std\": 2872851,\n        \"min\": 10001159,\n        \"max\": 19999647,\n        \"num_unique_values\": 15000,\n        \"samples\": [\n          12549363,\n          13995058,\n          17223277\n        ],\n        \"semantic_type\": \"\",\n        \"description\": \"\"\n      }\n    },\n    {\n      \"column\": \"Gender\",\n      \"properties\": {\n        \"dtype\": \"category\",\n        \"num_unique_values\": 2,\n        \"samples\": [\n          \"female\",\n          \"male\"\n        ],\n        \"semantic_type\": \"\",\n        \"description\": \"\"\n      }\n    },\n    {\n      \"column\": \"Age\",\n      \"properties\": {\n        \"dtype\": \"number\",\n        \"std\": 16,\n        \"min\": 20,\n        \"max\": 79,\n        \"num_unique_values\": 60,\n        \"samples\": [\n          68,\n          36\n        ],\n        \"semantic_type\": \"\",\n        \"description\": \"\"\n      }\n    },\n    {\n      \"column\": \"Height\",\n      \"properties\": {\n        \"dtype\": \"number\",\n        \"std\": 14.258113616551187,\n        \"min\": 123.0,\n        \"max\": 222.0,\n        \"num_unique_values\": 90,\n        \"samples\": [\n          197.0,\n          183.0\n        ],\n        \"semantic_type\": \"\",\n        \"description\": \"\"\n      }\n    },\n    {\n      \"column\": \"Weight\",\n      \"properties\": {\n        \"dtype\": \"number\",\n        \"std\": 15.035656739246907,\n        \"min\": 36.0,\n        \"max\": 132.0,\n        \"num_unique_values\": 91,\n        \"samples\": [\n          91.0,\n          84.0\n        ],\n        \"semantic_type\": \"\",\n        \"description\": \"\"\n      }\n    },\n    {\n      \"column\": \"Duration\",\n      \"properties\": {\n        \"dtype\": \"number\",\n        \"std\": 8.319203342244775,\n        \"min\": 1.0,\n        \"max\": 30.0,\n        \"num_unique_values\": 30,\n        \"samples\": [\n          26.0,\n          28.0\n        ],\n        \"semantic_type\": \"\",\n        \"description\": \"\"\n      }\n    },\n    {\n      \"column\": \"Heart_Rate\",\n      \"properties\": {\n        \"dtype\": \"number\",\n        \"std\": 9.583328189839296,\n        \"min\": 67.0,\n        \"max\": 128.0,\n        \"num_unique_values\": 59,\n        \"samples\": [\n          105.0,\n          96.0\n        ],\n        \"semantic_type\": \"\",\n        \"description\": \"\"\n      }\n    },\n    {\n      \"column\": \"Body_Temp\",\n      \"properties\": {\n        \"dtype\": \"number\",\n        \"std\": 0.7792299239893948,\n        \"min\": 37.1,\n        \"max\": 41.5,\n        \"num_unique_values\": 45,\n        \"samples\": [\n          37.5,\n          40.6\n        ],\n        \"semantic_type\": \"\",\n        \"description\": \"\"\n      }\n    }\n  ]\n}"
            }
          },
          "metadata": {},
          "execution_count": 42
        }
      ]
    },
    {
      "cell_type": "markdown",
      "source": [
        "# 3. PEMBUATAN MODEL"
      ],
      "metadata": {
        "id": "ZMHt4U1RowmA"
      }
    },
    {
      "cell_type": "code",
      "source": [
        "# Pisahkan atribut dan target\n",
        "X = df[['Heart_Rate']]\n",
        "y = df['Body_Temp']\n",
        "\n",
        "# Bagi data menjadi data latih dan data uji\n",
        "X_train, X_test, y_train, y_test = train_test_split(X, y, test_size=0.2, random_state=42)\n",
        "\n",
        "# Membuat objek PolynomialFeatures untuk membuat fitur-fitur polinomial\n",
        "poly = PolynomialFeatures(degree=2)  # Menggunakan derajat polinomial 3\n",
        "\n",
        "# Transformasi fitur X menjadi fitur-fitur polinomial\n",
        "X_train_poly = poly.fit_transform(X_train)\n",
        "X_test_poly = poly.transform(X_test)\n",
        "\n",
        "# Membuat model regresi linear\n",
        "model = LinearRegression()\n",
        "\n",
        "# Melatih model pada data latih\n",
        "model.fit(X_train_poly, y_train)\n",
        "\n",
        "# Membuat prediksi menggunakan data uji\n",
        "y_pred = model.predict(X_test_poly)\n"
      ],
      "metadata": {
        "id": "xCcWgnWro4sc"
      },
      "execution_count": 43,
      "outputs": []
    },
    {
      "cell_type": "markdown",
      "source": [
        "# 4. EVALUASI MODEL\n",
        "Prompt ChatGPT : Berikan kode untuk melakukan evaluasi dengan menggunakan RMSE, MAE, MAPPE, R2"
      ],
      "metadata": {
        "id": "ms8CLjshqu30"
      }
    },
    {
      "cell_type": "code",
      "source": [
        "# Menghitung RMSE (Root Mean Squared Error)\n",
        "rmse = np.sqrt(mean_squared_error(y_test, y_pred))\n",
        "\n",
        "# Menghitung MAE (Mean Absolute Error)\n",
        "mae = mean_absolute_error(y_test, y_pred)\n",
        "\n",
        "# Menghitung MAPE (Mean Absolute Percentage Error)\n",
        "def mean_absolute_percentage_error(y_test, y_pred):\n",
        "    return np.mean(np.abs((y_test - y_pred) / y_test)) * 100\n",
        "mape = mean_absolute_percentage_error(y_test, y_pred)\n",
        "\n",
        "# Menghitung R-squared (R2)\n",
        "r2 = r2_score(y_test, y_pred)\n",
        "\n",
        "print(\"RMSE:\", rmse)\n",
        "print(\"MAE:\", mae)\n",
        "print(\"MAPE:\", mape)\n",
        "print(\"R2:\", r2)"
      ],
      "metadata": {
        "colab": {
          "base_uri": "https://localhost:8080/"
        },
        "id": "7zSB5ho2qwX7",
        "outputId": "597476b3-efd3-49c4-b8bd-46b543175a7e"
      },
      "execution_count": 44,
      "outputs": [
        {
          "output_type": "stream",
          "name": "stdout",
          "text": [
            "RMSE: 0.47949691988845705\n",
            "MAE: 0.3564296852169767\n",
            "MAPE: 0.898187345333817\n",
            "R2: 0.6261946078775089\n"
          ]
        }
      ]
    },
    {
      "cell_type": "markdown",
      "source": [
        "# 5. VISUALISASI MODEL\n",
        "Prompt ChatGPT : Berikan kode untuk memvisualisasikan scatter plot dari hasil model polynomial regression diatas"
      ],
      "metadata": {
        "id": "SxnKQ9lvsUqg"
      }
    },
    {
      "cell_type": "code",
      "source": [
        "# Mengurutkan data uji berdasarkan Heart_Rate\n",
        "sort_indices = np.argsort(X_test.values.flatten())\n",
        "X_test_sorted = X_test.values[sort_indices]\n",
        "y_test_sorted = y_test.values[sort_indices]\n",
        "\n",
        "# Mengurutkan hasil prediksi sesuai dengan urutan data uji yang telah diurutkan\n",
        "y_pred_sorted = y_pred[sort_indices]\n",
        "\n",
        "# Membuat scatter plot dari data uji\n",
        "plt.scatter(X_test, y_test, color='blue', label='Actual Data')\n",
        "\n",
        "# Menambahkan plot dari hasil prediksi\n",
        "plt.plot(X_test_sorted, y_pred_sorted, color='red', label='Predicted Data')\n",
        "\n",
        "plt.title('Scatter Plot Heart Rate vs Body Temp')\n",
        "plt.xlabel('Heart Rate')\n",
        "plt.ylabel('Body Temp')\n",
        "plt.legend()\n",
        "plt.show()"
      ],
      "metadata": {
        "colab": {
          "base_uri": "https://localhost:8080/",
          "height": 472
        },
        "id": "1WQnR97gsep0",
        "outputId": "3b6c7e0b-880c-4c15-8817-3d543760a1e4"
      },
      "execution_count": 45,
      "outputs": [
        {
          "output_type": "display_data",
          "data": {
            "text/plain": [
              "<Figure size 640x480 with 1 Axes>"
            ],
            "image/png": "[encoded data removed]"
          },
          "metadata": {}
        }
      ]
    },
    {
      "cell_type": "markdown",
      "source": [
        "**Perbandingan antara nilai aktual dengan hasil prediksi yang dibuat oleh model polynomial regression**"
      ],
      "metadata": {
        "id": "3jJEAL29uqxy"
      }
    },
    {
      "cell_type": "code",
      "source": [
        "# Menampilkan nilai aktual dan nilai prediksi\n",
        "actual_vs_predicted = np.column_stack((y_test, y_pred))\n",
        "print(\"Actual vs Predicted : \")\n",
        "print(actual_vs_predicted)"
      ],
      "metadata": {
        "colab": {
          "base_uri": "https://localhost:8080/"
        },
        "id": "Pb2Wmo_eudi5",
        "outputId": "45539ef7-c294-4666-e713-4115057d7a6e"
      },
      "execution_count": 46,
      "outputs": [
        {
          "output_type": "stream",
          "name": "stdout",
          "text": [
            "Actual vs Predicted : \n",
            "[[40.6        40.69489176]\n",
            " [40.5        40.81375885]\n",
            " [40.         39.75265069]\n",
            " ...\n",
            " [40.2        40.58003226]\n",
            " [39.2        39.42811022]\n",
            " [41.2        40.90725164]]\n"
          ]
        }
      ]
    },
    {
      "cell_type": "markdown",
      "source": [
        "**Menambahkan data baru lalu meminta model untuk melakukan prediksi**\n",
        "\n",
        "Prompt ChatGPT : Bagaimana cara menginputkan data baru dan meminta agar model memberikan prediksi dari data yang kita saya masukkan tadi?"
      ],
      "metadata": {
        "id": "aIckkmtLvMsf"
      }
    },
    {
      "cell_type": "code",
      "source": [
        "# Misalkan kita memiliki data baru untuk heart rate 90\n",
        "new_data = pd.DataFrame({'Heart_Rate': [90]})\n",
        "\n",
        "# Lakukan transformasi polinomial sesuai dengan pola yang sama dengan saat melatih model\n",
        "new_data_poly = poly.transform(new_data)\n",
        "\n",
        "# Lakukan prediksi dengan model yang telah dilatih\n",
        "predicted_temp = model.predict(new_data_poly)\n",
        "\n",
        "# Tampilkan hasil prediksi\n",
        "print(\"Prediksi Suhu Tubuh untuk Detak Jantung = 90 :\", predicted_temp)"
      ],
      "metadata": {
        "colab": {
          "base_uri": "https://localhost:8080/"
        },
        "id": "bubemDFevZsD",
        "outputId": "7195375b-7219-49ea-88ee-f4237837767e"
      },
      "execution_count": 47,
      "outputs": [
        {
          "output_type": "stream",
          "name": "stdout",
          "text": [
            "Prediksi Suhu Tubuh untuk Detak Jantung = 90 : [39.75265069]\n"
          ]
        }
      ]
    }
  ]
}