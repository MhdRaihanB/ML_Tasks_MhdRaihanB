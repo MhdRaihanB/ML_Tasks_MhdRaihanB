{
 "cells": [
  {
   "cell_type": "markdown",
   "id": "9a05bf77",
   "metadata": {
    "papermill": {
     "duration": 0.005,
     "end_time": "2024-03-06T19:51:27.199466",
     "exception": false,
     "start_time": "2024-03-06T19:51:27.194466",
     "status": "completed"
    },
    "tags": []
   },
   "source": [
    "**This notebook is an exercise in the [Introduction to Machine Learning](https://www.kaggle.com/learn/intro-to-machine-learning) course.  You can reference the tutorial at [this link](https://www.kaggle.com/dansbecker/your-first-machine-learning-model).**\n",
    "\n",
    "---\n"
   ]
  },
  {
   "cell_type": "markdown",
   "id": "57ebe0d1",
   "metadata": {
    "papermill": {
     "duration": 0.004107,
     "end_time": "2024-03-06T19:51:27.208122",
     "exception": false,
     "start_time": "2024-03-06T19:51:27.204015",
     "status": "completed"
    },
    "tags": []
   },
   "source": [
    "## Recap\n",
    "So far, you have loaded your data and reviewed it with the following code. Run this cell to set up your coding environment where the previous step left off."
   ]
  },
  {
   "cell_type": "code",
   "execution_count": 1,
   "id": "fb248cf0",
   "metadata": {
    "execution": {
     "iopub.execute_input": "2024-03-06T19:51:27.219382Z",
     "iopub.status.busy": "2024-03-06T19:51:27.218693Z",
     "iopub.status.idle": "2024-03-06T19:51:29.538298Z",
     "shell.execute_reply": "2024-03-06T19:51:29.537245Z"
    },
    "papermill": {
     "duration": 2.327517,
     "end_time": "2024-03-06T19:51:29.540142",
     "exception": false,
     "start_time": "2024-03-06T19:51:27.212625",
     "status": "completed"
    },
    "tags": []
   },
   "outputs": [
    {
     "name": "stdout",
     "output_type": "stream",
     "text": [
      "Setup Complete\n"
     ]
    }
   ],
   "source": [
    "# Code you have previously used to load data\n",
    "import pandas as pd\n",
    "\n",
    "# Path of the file to read\n",
    "iowa_file_path = '../input/home-data-for-ml-course/train.csv'\n",
    "\n",
    "home_data = pd.read_csv(iowa_file_path)\n",
    "\n",
    "# Set up code checking\n",
    "from learntools.core import binder\n",
    "binder.bind(globals())\n",
    "from learntools.machine_learning.ex3 import *\n",
    "\n",
    "print(\"Setup Complete\")"
   ]
  },
  {
   "cell_type": "markdown",
   "id": "d1728f8c",
   "metadata": {
    "papermill": {
     "duration": 0.004234,
     "end_time": "2024-03-06T19:51:29.549003",
     "exception": false,
     "start_time": "2024-03-06T19:51:29.544769",
     "status": "completed"
    },
    "tags": []
   },
   "source": [
    "# Exercises\n",
    "\n",
    "## Step 1: Specify Prediction Target\n",
    "Select the target variable, which corresponds to the sales price. Save this to a new variable called `y`. You'll need to print a list of the columns to find the name of the column you need.\n"
   ]
  },
  {
   "cell_type": "code",
   "execution_count": 2,
   "id": "f0417262",
   "metadata": {
    "execution": {
     "iopub.execute_input": "2024-03-06T19:51:29.559373Z",
     "iopub.status.busy": "2024-03-06T19:51:29.559004Z",
     "iopub.status.idle": "2024-03-06T19:51:29.567144Z",
     "shell.execute_reply": "2024-03-06T19:51:29.566053Z"
    },
    "papermill": {
     "duration": 0.016351,
     "end_time": "2024-03-06T19:51:29.569769",
     "exception": false,
     "start_time": "2024-03-06T19:51:29.553418",
     "status": "completed"
    },
    "tags": []
   },
   "outputs": [
    {
     "data": {
      "text/plain": [
       "Index(['Id', 'MSSubClass', 'MSZoning', 'LotFrontage', 'LotArea', 'Street',\n",
       "       'Alley', 'LotShape', 'LandContour', 'Utilities', 'LotConfig',\n",
       "       'LandSlope', 'Neighborhood', 'Condition1', 'Condition2', 'BldgType',\n",
       "       'HouseStyle', 'OverallQual', 'OverallCond', 'YearBuilt', 'YearRemodAdd',\n",
       "       'RoofStyle', 'RoofMatl', 'Exterior1st', 'Exterior2nd', 'MasVnrType',\n",
       "       'MasVnrArea', 'ExterQual', 'ExterCond', 'Foundation', 'BsmtQual',\n",
       "       'BsmtCond', 'BsmtExposure', 'BsmtFinType1', 'BsmtFinSF1',\n",
       "       'BsmtFinType2', 'BsmtFinSF2', 'BsmtUnfSF', 'TotalBsmtSF', 'Heating',\n",
       "       'HeatingQC', 'CentralAir', 'Electrical', '1stFlrSF', '2ndFlrSF',\n",
       "       'LowQualFinSF', 'GrLivArea', 'BsmtFullBath', 'BsmtHalfBath', 'FullBath',\n",
       "       'HalfBath', 'BedroomAbvGr', 'KitchenAbvGr', 'KitchenQual',\n",
       "       'TotRmsAbvGrd', 'Functional', 'Fireplaces', 'FireplaceQu', 'GarageType',\n",
       "       'GarageYrBlt', 'GarageFinish', 'GarageCars', 'GarageArea', 'GarageQual',\n",
       "       'GarageCond', 'PavedDrive', 'WoodDeckSF', 'OpenPorchSF',\n",
       "       'EnclosedPorch', '3SsnPorch', 'ScreenPorch', 'PoolArea', 'PoolQC',\n",
       "       'Fence', 'MiscFeature', 'MiscVal', 'MoSold', 'YrSold', 'SaleType',\n",
       "       'SaleCondition', 'SalePrice'],\n",
       "      dtype='object')"
      ]
     },
     "execution_count": 2,
     "metadata": {},
     "output_type": "execute_result"
    }
   ],
   "source": [
    "# print the list of columns in the dataset to find the name of the prediction target\n",
    "home_data.columns"
   ]
  },
  {
   "cell_type": "code",
   "execution_count": 3,
   "id": "1dfd8880",
   "metadata": {
    "execution": {
     "iopub.execute_input": "2024-03-06T19:51:29.581171Z",
     "iopub.status.busy": "2024-03-06T19:51:29.580840Z",
     "iopub.status.idle": "2024-03-06T19:51:29.593298Z",
     "shell.execute_reply": "2024-03-06T19:51:29.592188Z"
    },
    "papermill": {
     "duration": 0.020432,
     "end_time": "2024-03-06T19:51:29.595213",
     "exception": false,
     "start_time": "2024-03-06T19:51:29.574781",
     "status": "completed"
    },
    "tags": []
   },
   "outputs": [
    {
     "data": {
      "application/javascript": [
       "parent.postMessage({\"jupyterEvent\": \"custom.exercise_interaction\", \"data\": {\"outcomeType\": 1, \"valueTowardsCompletion\": 0.25, \"interactionType\": 1, \"questionType\": 2, \"questionId\": \"1_SetTarget\", \"learnToolsVersion\": \"0.3.4\", \"failureMessage\": \"\", \"exceptionClass\": \"\", \"trace\": \"\"}}, \"*\")"
      ],
      "text/plain": [
       "<IPython.core.display.Javascript object>"
      ]
     },
     "metadata": {},
     "output_type": "display_data"
    },
    {
     "data": {
      "text/markdown": [
       "<span style=\"color:#33cc33\">Correct</span>"
      ],
      "text/plain": [
       "Correct"
      ]
     },
     "metadata": {},
     "output_type": "display_data"
    }
   ],
   "source": [
    "y = home_data.SalePrice\n",
    "\n",
    "# Check your answer\n",
    "step_1.check()"
   ]
  },
  {
   "cell_type": "code",
   "execution_count": 4,
   "id": "ae726c57",
   "metadata": {
    "execution": {
     "iopub.execute_input": "2024-03-06T19:51:29.607028Z",
     "iopub.status.busy": "2024-03-06T19:51:29.606445Z",
     "iopub.status.idle": "2024-03-06T19:51:29.609727Z",
     "shell.execute_reply": "2024-03-06T19:51:29.609087Z"
    },
    "papermill": {
     "duration": 0.011137,
     "end_time": "2024-03-06T19:51:29.611346",
     "exception": false,
     "start_time": "2024-03-06T19:51:29.600209",
     "status": "completed"
    },
    "tags": []
   },
   "outputs": [],
   "source": [
    "# The lines below will show you a hint or the solution.\n",
    "# step_1.hint() \n",
    "# step_1.solution()"
   ]
  },
  {
   "cell_type": "markdown",
   "id": "6134b85c",
   "metadata": {
    "papermill": {
     "duration": 0.004344,
     "end_time": "2024-03-06T19:51:29.620628",
     "exception": false,
     "start_time": "2024-03-06T19:51:29.616284",
     "status": "completed"
    },
    "tags": []
   },
   "source": [
    "## Step 2: Create X\n",
    "Now you will create a DataFrame called `X` holding the predictive features.\n",
    "\n",
    "Since you want only some columns from the original data, you'll first create a list with the names of the columns you want in `X`.\n",
    "\n",
    "You'll use just the following columns in the list (you can copy and paste the whole list to save some typing, though you'll still need to add quotes):\n",
    "  * LotArea\n",
    "  * YearBuilt\n",
    "  * 1stFlrSF\n",
    "  * 2ndFlrSF\n",
    "  * FullBath\n",
    "  * BedroomAbvGr\n",
    "  * TotRmsAbvGrd\n",
    "\n",
    "After you've created that list of features, use it to create the DataFrame that you'll use to fit the model."
   ]
  },
  {
   "cell_type": "code",
   "execution_count": 5,
   "id": "42ef926f",
   "metadata": {
    "execution": {
     "iopub.execute_input": "2024-03-06T19:51:29.631613Z",
     "iopub.status.busy": "2024-03-06T19:51:29.631270Z",
     "iopub.status.idle": "2024-03-06T19:51:29.644793Z",
     "shell.execute_reply": "2024-03-06T19:51:29.643912Z"
    },
    "papermill": {
     "duration": 0.021801,
     "end_time": "2024-03-06T19:51:29.647131",
     "exception": false,
     "start_time": "2024-03-06T19:51:29.625330",
     "status": "completed"
    },
    "tags": []
   },
   "outputs": [
    {
     "data": {
      "application/javascript": [
       "parent.postMessage({\"jupyterEvent\": \"custom.exercise_interaction\", \"data\": {\"outcomeType\": 1, \"valueTowardsCompletion\": 0.25, \"interactionType\": 1, \"questionType\": 2, \"questionId\": \"2_SelectPredictionData\", \"learnToolsVersion\": \"0.3.4\", \"failureMessage\": \"\", \"exceptionClass\": \"\", \"trace\": \"\"}}, \"*\")"
      ],
      "text/plain": [
       "<IPython.core.display.Javascript object>"
      ]
     },
     "metadata": {},
     "output_type": "display_data"
    },
    {
     "data": {
      "text/markdown": [
       "<span style=\"color:#33cc33\">Correct</span>"
      ],
      "text/plain": [
       "Correct"
      ]
     },
     "metadata": {},
     "output_type": "display_data"
    }
   ],
   "source": [
    "# Create the list of features below\n",
    "feature_names = [\n",
    "    \"LotArea\",\n",
    "    \"YearBuilt\",\n",
    "    \"1stFlrSF\",\n",
    "    \"2ndFlrSF\",\n",
    "    \"FullBath\",\n",
    "    \"BedroomAbvGr\",\n",
    "    \"TotRmsAbvGrd\",\n",
    "]\n",
    "\n",
    "# Select data corresponding to features in feature_names\n",
    "X = home_data[feature_names]\n",
    "\n",
    "# Check your answer\n",
    "step_2.check()"
   ]
  },
  {
   "cell_type": "code",
   "execution_count": 6,
   "id": "adc071cf",
   "metadata": {
    "execution": {
     "iopub.execute_input": "2024-03-06T19:51:29.659146Z",
     "iopub.status.busy": "2024-03-06T19:51:29.658814Z",
     "iopub.status.idle": "2024-03-06T19:51:29.662823Z",
     "shell.execute_reply": "2024-03-06T19:51:29.661877Z"
    },
    "papermill": {
     "duration": 0.012816,
     "end_time": "2024-03-06T19:51:29.665344",
     "exception": false,
     "start_time": "2024-03-06T19:51:29.652528",
     "status": "completed"
    },
    "tags": []
   },
   "outputs": [],
   "source": [
    "# step_2.hint()\n",
    "# step_2.solution()"
   ]
  },
  {
   "cell_type": "markdown",
   "id": "b0c5b861",
   "metadata": {
    "papermill": {
     "duration": 0.00639,
     "end_time": "2024-03-06T19:51:29.676849",
     "exception": false,
     "start_time": "2024-03-06T19:51:29.670459",
     "status": "completed"
    },
    "tags": []
   },
   "source": [
    "## Review Data\n",
    "Before building a model, take a quick look at **X** to verify it looks sensible"
   ]
  },
  {
   "cell_type": "code",
   "execution_count": 7,
   "id": "837e1492",
   "metadata": {
    "execution": {
     "iopub.execute_input": "2024-03-06T19:51:29.690013Z",
     "iopub.status.busy": "2024-03-06T19:51:29.689373Z",
     "iopub.status.idle": "2024-03-06T19:51:29.776663Z",
     "shell.execute_reply": "2024-03-06T19:51:29.775294Z"
    },
    "papermill": {
     "duration": 0.096834,
     "end_time": "2024-03-06T19:51:29.778919",
     "exception": false,
     "start_time": "2024-03-06T19:51:29.682085",
     "status": "completed"
    },
    "tags": []
   },
   "outputs": [
    {
     "name": "stdout",
     "output_type": "stream",
     "text": [
      "      LotArea  YearBuilt  1stFlrSF  2ndFlrSF  FullBath  BedroomAbvGr  \\\n",
      "0        8450       2003       856       854         2             3   \n",
      "1        9600       1976      1262         0         2             3   \n",
      "2       11250       2001       920       866         2             3   \n",
      "3        9550       1915       961       756         1             3   \n",
      "4       14260       2000      1145      1053         2             4   \n",
      "...       ...        ...       ...       ...       ...           ...   \n",
      "1455     7917       1999       953       694         2             3   \n",
      "1456    13175       1978      2073         0         2             3   \n",
      "1457     9042       1941      1188      1152         2             4   \n",
      "1458     9717       1950      1078         0         1             2   \n",
      "1459     9937       1965      1256         0         1             3   \n",
      "\n",
      "      TotRmsAbvGrd  \n",
      "0                8  \n",
      "1                6  \n",
      "2                6  \n",
      "3                7  \n",
      "4                9  \n",
      "...            ...  \n",
      "1455             7  \n",
      "1456             7  \n",
      "1457             9  \n",
      "1458             5  \n",
      "1459             6  \n",
      "\n",
      "[1460 rows x 7 columns]\n"
     ]
    }
   ],
   "source": [
    "# Review data\n",
    "# print description or statistics from X\n",
    "print(X)\n",
    "\n",
    "# print the top few lines\n",
    "#print(X.head())"
   ]
  },
  {
   "cell_type": "markdown",
   "id": "d35b00ce",
   "metadata": {
    "papermill": {
     "duration": 0.00505,
     "end_time": "2024-03-06T19:51:29.789494",
     "exception": false,
     "start_time": "2024-03-06T19:51:29.784444",
     "status": "completed"
    },
    "tags": []
   },
   "source": [
    "## Step 3: Specify and Fit Model\n",
    "Create a `DecisionTreeRegressor` and save it iowa_model. Ensure you've done the relevant import from sklearn to run this command.\n",
    "\n",
    "Then fit the model you just created using the data in `X` and `y` that you saved above."
   ]
  },
  {
   "cell_type": "code",
   "execution_count": 8,
   "id": "b61903f8",
   "metadata": {
    "execution": {
     "iopub.execute_input": "2024-03-06T19:51:29.802128Z",
     "iopub.status.busy": "2024-03-06T19:51:29.801232Z",
     "iopub.status.idle": "2024-03-06T19:51:29.820039Z",
     "shell.execute_reply": "2024-03-06T19:51:29.819056Z"
    },
    "papermill": {
     "duration": 0.027124,
     "end_time": "2024-03-06T19:51:29.821962",
     "exception": false,
     "start_time": "2024-03-06T19:51:29.794838",
     "status": "completed"
    },
    "tags": []
   },
   "outputs": [
    {
     "data": {
      "application/javascript": [
       "parent.postMessage({\"jupyterEvent\": \"custom.exercise_interaction\", \"data\": {\"outcomeType\": 1, \"valueTowardsCompletion\": 0.25, \"interactionType\": 1, \"questionType\": 2, \"questionId\": \"3_CreateModel\", \"learnToolsVersion\": \"0.3.4\", \"failureMessage\": \"\", \"exceptionClass\": \"\", \"trace\": \"\"}}, \"*\")"
      ],
      "text/plain": [
       "<IPython.core.display.Javascript object>"
      ]
     },
     "metadata": {},
     "output_type": "display_data"
    },
    {
     "data": {
      "text/markdown": [
       "<span style=\"color:#33cc33\">Correct</span>"
      ],
      "text/plain": [
       "Correct"
      ]
     },
     "metadata": {},
     "output_type": "display_data"
    }
   ],
   "source": [
    "from sklearn.tree import DecisionTreeRegressor\n",
    "#specify the model. \n",
    "#For model reproducibility, set a numeric value for random_state when specifying the model\n",
    "iowa_model = DecisionTreeRegressor(random_state = 1)\n",
    "\n",
    "# Fit the model\n",
    "iowa_model.fit(X,y)\n",
    "\n",
    "# Check your answer\n",
    "step_3.check()"
   ]
  },
  {
   "cell_type": "code",
   "execution_count": 9,
   "id": "931eb772",
   "metadata": {
    "execution": {
     "iopub.execute_input": "2024-03-06T19:51:29.835789Z",
     "iopub.status.busy": "2024-03-06T19:51:29.834295Z",
     "iopub.status.idle": "2024-03-06T19:51:29.839266Z",
     "shell.execute_reply": "2024-03-06T19:51:29.838611Z"
    },
    "papermill": {
     "duration": 0.01367,
     "end_time": "2024-03-06T19:51:29.841127",
     "exception": false,
     "start_time": "2024-03-06T19:51:29.827457",
     "status": "completed"
    },
    "tags": []
   },
   "outputs": [],
   "source": [
    "# step_3.hint()\n",
    "# step_3.solution()"
   ]
  },
  {
   "cell_type": "markdown",
   "id": "8cac4f0b",
   "metadata": {
    "papermill": {
     "duration": 0.00516,
     "end_time": "2024-03-06T19:51:29.851813",
     "exception": false,
     "start_time": "2024-03-06T19:51:29.846653",
     "status": "completed"
    },
    "tags": []
   },
   "source": [
    "## Step 4: Make Predictions\n",
    "Make predictions with the model's `predict` command using `X` as the data. Save the results to a variable called `predictions`."
   ]
  },
  {
   "cell_type": "code",
   "execution_count": 10,
   "id": "c66b261f",
   "metadata": {
    "execution": {
     "iopub.execute_input": "2024-03-06T19:51:29.864453Z",
     "iopub.status.busy": "2024-03-06T19:51:29.863927Z",
     "iopub.status.idle": "2024-03-06T19:51:29.876646Z",
     "shell.execute_reply": "2024-03-06T19:51:29.875509Z"
    },
    "papermill": {
     "duration": 0.022237,
     "end_time": "2024-03-06T19:51:29.879375",
     "exception": false,
     "start_time": "2024-03-06T19:51:29.857138",
     "status": "completed"
    },
    "tags": []
   },
   "outputs": [
    {
     "name": "stdout",
     "output_type": "stream",
     "text": [
      "[208500. 181500. 223500. ... 266500. 142125. 147500.]\n"
     ]
    },
    {
     "data": {
      "application/javascript": [
       "parent.postMessage({\"jupyterEvent\": \"custom.exercise_interaction\", \"data\": {\"outcomeType\": 1, \"valueTowardsCompletion\": 0.25, \"interactionType\": 1, \"questionType\": 2, \"questionId\": \"4_MakePredictions\", \"learnToolsVersion\": \"0.3.4\", \"failureMessage\": \"\", \"exceptionClass\": \"\", \"trace\": \"\"}}, \"*\")"
      ],
      "text/plain": [
       "<IPython.core.display.Javascript object>"
      ]
     },
     "metadata": {},
     "output_type": "display_data"
    },
    {
     "data": {
      "text/markdown": [
       "<span style=\"color:#33cc33\">Correct</span>"
      ],
      "text/plain": [
       "Correct"
      ]
     },
     "metadata": {},
     "output_type": "display_data"
    }
   ],
   "source": [
    "predictions = iowa_model.predict(X)\n",
    "print(predictions)\n",
    "\n",
    "# Check your answer\n",
    "step_4.check()"
   ]
  },
  {
   "cell_type": "code",
   "execution_count": 11,
   "id": "0976e71a",
   "metadata": {
    "execution": {
     "iopub.execute_input": "2024-03-06T19:51:29.892615Z",
     "iopub.status.busy": "2024-03-06T19:51:29.892089Z",
     "iopub.status.idle": "2024-03-06T19:51:29.897075Z",
     "shell.execute_reply": "2024-03-06T19:51:29.895650Z"
    },
    "papermill": {
     "duration": 0.014776,
     "end_time": "2024-03-06T19:51:29.900016",
     "exception": false,
     "start_time": "2024-03-06T19:51:29.885240",
     "status": "completed"
    },
    "tags": []
   },
   "outputs": [],
   "source": [
    "# step_4.hint()\n",
    "# step_4.solution()"
   ]
  },
  {
   "cell_type": "markdown",
   "id": "48953d5f",
   "metadata": {
    "papermill": {
     "duration": 0.005302,
     "end_time": "2024-03-06T19:51:29.911637",
     "exception": false,
     "start_time": "2024-03-06T19:51:29.906335",
     "status": "completed"
    },
    "tags": []
   },
   "source": [
    "## Think About Your Results\n",
    "\n",
    "Use the `head` method to compare the top few predictions to the actual home values (in `y`) for those same homes. Anything surprising?\n"
   ]
  },
  {
   "cell_type": "code",
   "execution_count": 12,
   "id": "d1842e97",
   "metadata": {
    "execution": {
     "iopub.execute_input": "2024-03-06T19:51:29.924194Z",
     "iopub.status.busy": "2024-03-06T19:51:29.923886Z",
     "iopub.status.idle": "2024-03-06T19:51:29.929224Z",
     "shell.execute_reply": "2024-03-06T19:51:29.928336Z"
    },
    "papermill": {
     "duration": 0.014068,
     "end_time": "2024-03-06T19:51:29.931287",
     "exception": false,
     "start_time": "2024-03-06T19:51:29.917219",
     "status": "completed"
    },
    "tags": []
   },
   "outputs": [
    {
     "name": "stdout",
     "output_type": "stream",
     "text": [
      "[208500. 181500. 223500. ... 266500. 142125. 147500.]\n",
      "0    208500\n",
      "1    181500\n",
      "2    223500\n",
      "3    140000\n",
      "4    250000\n",
      "Name: SalePrice, dtype: int64\n"
     ]
    }
   ],
   "source": [
    "# You can write code in this cell\n",
    "print(predictions)\n",
    "print(y.head())"
   ]
  },
  {
   "cell_type": "markdown",
   "id": "b63b0bcf",
   "metadata": {
    "papermill": {
     "duration": 0.005782,
     "end_time": "2024-03-06T19:51:29.942807",
     "exception": false,
     "start_time": "2024-03-06T19:51:29.937025",
     "status": "completed"
    },
    "tags": []
   },
   "source": [
    "It's natural to ask how accurate the model's predictions will be and how you can improve that. That will be you're next step.\n",
    "\n",
    "# Keep Going\n",
    "\n",
    "You are ready for **[Model Validation](https://www.kaggle.com/dansbecker/model-validation).**\n"
   ]
  },
  {
   "cell_type": "markdown",
   "id": "da75814f",
   "metadata": {
    "papermill": {
     "duration": 0.005309,
     "end_time": "2024-03-06T19:51:29.953445",
     "exception": false,
     "start_time": "2024-03-06T19:51:29.948136",
     "status": "completed"
    },
    "tags": []
   },
   "source": [
    "---\n",
    "\n",
    "\n",
    "\n",
    "\n",
    "*Have questions or comments? Visit the [course discussion forum](https://www.kaggle.com/learn/intro-to-machine-learning/discussion) to chat with other learners.*"
   ]
  }
 ],
 "metadata": {
  "kaggle": {
   "accelerator": "none",
   "dataSources": [
    {
     "databundleVersionId": 111096,
     "sourceId": 10211,
     "sourceType": "competition"
    },
    {
     "datasetId": 11167,
     "sourceId": 15520,
     "sourceType": "datasetVersion"
    },
    {
     "datasetId": 2709,
     "sourceId": 38454,
     "sourceType": "datasetVersion"
    }
   ],
   "isGpuEnabled": false,
   "isInternetEnabled": false,
   "language": "python",
   "sourceType": "notebook"
  },
  "kernelspec": {
   "display_name": "Python 3",
   "language": "python",
   "name": "python3"
  },
  "language_info": {
   "codemirror_mode": {
    "name": "ipython",
    "version": 3
   },
   "file_extension": ".py",
   "mimetype": "text/x-python",
   "name": "python",
   "nbconvert_exporter": "python",
   "pygments_lexer": "ipython3",
   "version": "3.10.13"
  },
  "papermill": {
   "default_parameters": {},
   "duration": 5.642649,
   "end_time": "2024-03-06T19:51:30.479866",
   "environment_variables": {},
   "exception": null,
   "input_path": "__notebook__.ipynb",
   "output_path": "__notebook__.ipynb",
   "parameters": {},
   "start_time": "2024-03-06T19:51:24.837217",
   "version": "2.5.0"
  }
 },
 "nbformat": 4,
 "nbformat_minor": 5
}
