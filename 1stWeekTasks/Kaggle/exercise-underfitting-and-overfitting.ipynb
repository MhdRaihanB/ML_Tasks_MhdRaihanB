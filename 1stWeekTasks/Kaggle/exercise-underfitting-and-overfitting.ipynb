{
 "cells": [
  {
   "cell_type": "markdown",
   "id": "b2e398d0",
   "metadata": {
    "papermill": {
     "duration": 0.004493,
     "end_time": "2024-03-06T22:09:50.523314",
     "exception": false,
     "start_time": "2024-03-06T22:09:50.518821",
     "status": "completed"
    },
    "tags": []
   },
   "source": [
    "**This notebook is an exercise in the [Introduction to Machine Learning](https://www.kaggle.com/learn/intro-to-machine-learning) course.  You can reference the tutorial at [this link](https://www.kaggle.com/dansbecker/underfitting-and-overfitting).**\n",
    "\n",
    "---\n"
   ]
  },
  {
   "cell_type": "markdown",
   "id": "eb4b2dae",
   "metadata": {
    "papermill": {
     "duration": 0.00344,
     "end_time": "2024-03-06T22:09:50.530872",
     "exception": false,
     "start_time": "2024-03-06T22:09:50.527432",
     "status": "completed"
    },
    "tags": []
   },
   "source": [
    "## Recap\n",
    "You've built your first model, and now it's time to optimize the size of the tree to make better predictions. Run this cell to set up your coding environment where the previous step left off."
   ]
  },
  {
   "cell_type": "code",
   "execution_count": 1,
   "id": "383fd0f0",
   "metadata": {
    "execution": {
     "iopub.execute_input": "2024-03-06T22:09:50.541408Z",
     "iopub.status.busy": "2024-03-06T22:09:50.540506Z",
     "iopub.status.idle": "2024-03-06T22:09:53.367892Z",
     "shell.execute_reply": "2024-03-06T22:09:53.366648Z"
    },
    "papermill": {
     "duration": 2.835908,
     "end_time": "2024-03-06T22:09:53.370530",
     "exception": false,
     "start_time": "2024-03-06T22:09:50.534622",
     "status": "completed"
    },
    "tags": []
   },
   "outputs": [
    {
     "name": "stdout",
     "output_type": "stream",
     "text": [
      "Validation MAE: 29,653\n",
      "\n",
      "Setup complete\n"
     ]
    }
   ],
   "source": [
    "# Code you have previously used to load data\n",
    "import pandas as pd\n",
    "from sklearn.metrics import mean_absolute_error\n",
    "from sklearn.model_selection import train_test_split\n",
    "from sklearn.tree import DecisionTreeRegressor\n",
    "\n",
    "\n",
    "# Path of the file to read\n",
    "iowa_file_path = '../input/home-data-for-ml-course/train.csv'\n",
    "\n",
    "home_data = pd.read_csv(iowa_file_path)\n",
    "# Create target object and call it y\n",
    "y = home_data.SalePrice\n",
    "# Create X\n",
    "features = ['LotArea', 'YearBuilt', '1stFlrSF', '2ndFlrSF', 'FullBath', 'BedroomAbvGr', 'TotRmsAbvGrd']\n",
    "X = home_data[features]\n",
    "\n",
    "# Split into validation and training data\n",
    "train_X, val_X, train_y, val_y = train_test_split(X, y, random_state=1)\n",
    "\n",
    "# Specify Model\n",
    "iowa_model = DecisionTreeRegressor(random_state=1)\n",
    "# Fit Model\n",
    "iowa_model.fit(train_X, train_y)\n",
    "\n",
    "# Make validation predictions and calculate mean absolute error\n",
    "val_predictions = iowa_model.predict(val_X)\n",
    "val_mae = mean_absolute_error(val_predictions, val_y)\n",
    "print(\"Validation MAE: {:,.0f}\".format(val_mae))\n",
    "\n",
    "# Set up code checking\n",
    "from learntools.core import binder\n",
    "binder.bind(globals())\n",
    "from learntools.machine_learning.ex5 import *\n",
    "print(\"\\nSetup complete\")"
   ]
  },
  {
   "cell_type": "markdown",
   "id": "ceabb5d9",
   "metadata": {
    "papermill": {
     "duration": 0.003496,
     "end_time": "2024-03-06T22:09:53.378188",
     "exception": false,
     "start_time": "2024-03-06T22:09:53.374692",
     "status": "completed"
    },
    "tags": []
   },
   "source": [
    "# Exercises\n",
    "You could write the function `get_mae` yourself. For now, we'll supply it. This is the same function you read about in the previous lesson. Just run the cell below."
   ]
  },
  {
   "cell_type": "code",
   "execution_count": 2,
   "id": "bcc60e16",
   "metadata": {
    "execution": {
     "iopub.execute_input": "2024-03-06T22:09:53.388485Z",
     "iopub.status.busy": "2024-03-06T22:09:53.387376Z",
     "iopub.status.idle": "2024-03-06T22:09:53.393782Z",
     "shell.execute_reply": "2024-03-06T22:09:53.392550Z"
    },
    "papermill": {
     "duration": 0.014237,
     "end_time": "2024-03-06T22:09:53.396388",
     "exception": false,
     "start_time": "2024-03-06T22:09:53.382151",
     "status": "completed"
    },
    "tags": []
   },
   "outputs": [],
   "source": [
    "def get_mae(max_leaf_nodes, train_X, val_X, train_y, val_y):\n",
    "    model = DecisionTreeRegressor(max_leaf_nodes=max_leaf_nodes, random_state=0)\n",
    "    model.fit(train_X, train_y)\n",
    "    preds_val = model.predict(val_X)\n",
    "    mae = mean_absolute_error(val_y, preds_val)\n",
    "    return(mae)"
   ]
  },
  {
   "cell_type": "markdown",
   "id": "45145b62",
   "metadata": {
    "papermill": {
     "duration": 0.004039,
     "end_time": "2024-03-06T22:09:53.404370",
     "exception": false,
     "start_time": "2024-03-06T22:09:53.400331",
     "status": "completed"
    },
    "tags": []
   },
   "source": [
    "## Step 1: Compare Different Tree Sizes\n",
    "Write a loop that tries the following values for *max_leaf_nodes* from a set of possible values.\n",
    "\n",
    "Call the *get_mae* function on each value of max_leaf_nodes. Store the output in some way that allows you to select the value of `max_leaf_nodes` that gives the most accurate model on your data."
   ]
  },
  {
   "cell_type": "code",
   "execution_count": 3,
   "id": "36e9d24c",
   "metadata": {
    "execution": {
     "iopub.execute_input": "2024-03-06T22:09:53.413972Z",
     "iopub.status.busy": "2024-03-06T22:09:53.413375Z",
     "iopub.status.idle": "2024-03-06T22:09:53.465842Z",
     "shell.execute_reply": "2024-03-06T22:09:53.464622Z"
    },
    "papermill": {
     "duration": 0.060068,
     "end_time": "2024-03-06T22:09:53.468325",
     "exception": false,
     "start_time": "2024-03-06T22:09:53.408257",
     "status": "completed"
    },
    "tags": []
   },
   "outputs": [
    {
     "data": {
      "application/javascript": [
       "parent.postMessage({\"jupyterEvent\": \"custom.exercise_interaction\", \"data\": {\"outcomeType\": 1, \"valueTowardsCompletion\": 0.5, \"interactionType\": 1, \"questionType\": 1, \"questionId\": \"1_BestTreeSize\", \"learnToolsVersion\": \"0.3.4\", \"failureMessage\": \"\", \"exceptionClass\": \"\", \"trace\": \"\"}}, \"*\")"
      ],
      "text/plain": [
       "<IPython.core.display.Javascript object>"
      ]
     },
     "metadata": {},
     "output_type": "display_data"
    },
    {
     "data": {
      "text/markdown": [
       "<span style=\"color:#33cc33\">Correct</span>"
      ],
      "text/plain": [
       "Correct"
      ]
     },
     "metadata": {},
     "output_type": "display_data"
    }
   ],
   "source": [
    "candidate_max_leaf_nodes = [5, 25, 50, 100, 250, 500]\n",
    "# Write loop to find the ideal tree size from candidate_max_leaf_nodes\n",
    "scores = {leaf_size: get_mae(leaf_size, train_X, val_X, train_y, val_y) for leaf_size in candidate_max_leaf_nodes}\n",
    "\n",
    "# Store the best value of max_leaf_nodes (it will be either 5, 25, 50, 100, 250 or 500)\n",
    "best_tree_size = min(scores, key=scores.get)\n",
    "\n",
    "# Check your answer\n",
    "step_1.check()"
   ]
  },
  {
   "cell_type": "code",
   "execution_count": 4,
   "id": "0c8c939c",
   "metadata": {
    "execution": {
     "iopub.execute_input": "2024-03-06T22:09:53.478478Z",
     "iopub.status.busy": "2024-03-06T22:09:53.478090Z",
     "iopub.status.idle": "2024-03-06T22:09:53.482630Z",
     "shell.execute_reply": "2024-03-06T22:09:53.481565Z"
    },
    "papermill": {
     "duration": 0.012179,
     "end_time": "2024-03-06T22:09:53.484752",
     "exception": false,
     "start_time": "2024-03-06T22:09:53.472573",
     "status": "completed"
    },
    "tags": []
   },
   "outputs": [],
   "source": [
    "# The lines below will show you a hint or the solution.\n",
    "# step_1.hint() \n",
    "# step_1.solution()"
   ]
  },
  {
   "cell_type": "markdown",
   "id": "03394879",
   "metadata": {
    "papermill": {
     "duration": 0.003782,
     "end_time": "2024-03-06T22:09:53.492624",
     "exception": false,
     "start_time": "2024-03-06T22:09:53.488842",
     "status": "completed"
    },
    "tags": []
   },
   "source": [
    "## Step 2: Fit Model Using All Data\n",
    "You know the best tree size. If you were going to deploy this model in practice, you would make it even more accurate by using all of the data and keeping that tree size.  That is, you don't need to hold out the validation data now that you've made all your modeling decisions."
   ]
  },
  {
   "cell_type": "code",
   "execution_count": 5,
   "id": "e25c305d",
   "metadata": {
    "execution": {
     "iopub.execute_input": "2024-03-06T22:09:53.502678Z",
     "iopub.status.busy": "2024-03-06T22:09:53.501976Z",
     "iopub.status.idle": "2024-03-06T22:09:53.519303Z",
     "shell.execute_reply": "2024-03-06T22:09:53.518170Z"
    },
    "papermill": {
     "duration": 0.025077,
     "end_time": "2024-03-06T22:09:53.521705",
     "exception": false,
     "start_time": "2024-03-06T22:09:53.496628",
     "status": "completed"
    },
    "tags": []
   },
   "outputs": [
    {
     "data": {
      "application/javascript": [
       "parent.postMessage({\"jupyterEvent\": \"custom.exercise_interaction\", \"data\": {\"outcomeType\": 1, \"valueTowardsCompletion\": 0.5, \"interactionType\": 1, \"questionType\": 2, \"questionId\": \"2_FitModelWithAllData\", \"learnToolsVersion\": \"0.3.4\", \"failureMessage\": \"\", \"exceptionClass\": \"\", \"trace\": \"\"}}, \"*\")"
      ],
      "text/plain": [
       "<IPython.core.display.Javascript object>"
      ]
     },
     "metadata": {},
     "output_type": "display_data"
    },
    {
     "data": {
      "text/markdown": [
       "<span style=\"color:#33cc33\">Correct</span>"
      ],
      "text/plain": [
       "Correct"
      ]
     },
     "metadata": {},
     "output_type": "display_data"
    }
   ],
   "source": [
    "# Fill in argument to make optimal size and uncomment\n",
    "final_model = DecisionTreeRegressor(max_leaf_nodes=best_tree_size, random_state=1)\n",
    "\n",
    "# fit the final model and uncomment the next two lines\n",
    "final_model.fit(X, y)\n",
    "\n",
    "# Check your answer\n",
    "step_2.check()"
   ]
  },
  {
   "cell_type": "code",
   "execution_count": 6,
   "id": "f2b5e8ea",
   "metadata": {
    "execution": {
     "iopub.execute_input": "2024-03-06T22:09:53.532841Z",
     "iopub.status.busy": "2024-03-06T22:09:53.531880Z",
     "iopub.status.idle": "2024-03-06T22:09:53.536454Z",
     "shell.execute_reply": "2024-03-06T22:09:53.535352Z"
    },
    "papermill": {
     "duration": 0.012624,
     "end_time": "2024-03-06T22:09:53.538670",
     "exception": false,
     "start_time": "2024-03-06T22:09:53.526046",
     "status": "completed"
    },
    "tags": []
   },
   "outputs": [],
   "source": [
    "# step_2.hint()\n",
    "# step_2.solution()"
   ]
  },
  {
   "cell_type": "markdown",
   "id": "f60115a9",
   "metadata": {
    "papermill": {
     "duration": 0.004073,
     "end_time": "2024-03-06T22:09:53.547631",
     "exception": false,
     "start_time": "2024-03-06T22:09:53.543558",
     "status": "completed"
    },
    "tags": []
   },
   "source": [
    "You've tuned this model and improved your results. But we are still using Decision Tree models, which are not very sophisticated by modern machine learning standards. In the next step you will learn to use Random Forests to improve your models even more.\n",
    "\n",
    "# Keep Going\n",
    "\n",
    "You are ready for **[Random Forests](https://www.kaggle.com/dansbecker/random-forests).**\n"
   ]
  },
  {
   "cell_type": "markdown",
   "id": "bdef76d7",
   "metadata": {
    "papermill": {
     "duration": 0.003865,
     "end_time": "2024-03-06T22:09:53.555799",
     "exception": false,
     "start_time": "2024-03-06T22:09:53.551934",
     "status": "completed"
    },
    "tags": []
   },
   "source": [
    "---\n",
    "\n",
    "\n",
    "\n",
    "\n",
    "*Have questions or comments? Visit the [course discussion forum](https://www.kaggle.com/learn/intro-to-machine-learning/discussion) to chat with other learners.*"
   ]
  }
 ],
 "metadata": {
  "kaggle": {
   "accelerator": "none",
   "dataSources": [
    {
     "databundleVersionId": 111096,
     "sourceId": 10211,
     "sourceType": "competition"
    },
    {
     "datasetId": 11167,
     "sourceId": 15520,
     "sourceType": "datasetVersion"
    },
    {
     "datasetId": 2709,
     "sourceId": 38454,
     "sourceType": "datasetVersion"
    }
   ],
   "isGpuEnabled": false,
   "isInternetEnabled": false,
   "language": "python",
   "sourceType": "notebook"
  },
  "kernelspec": {
   "display_name": "Python 3",
   "language": "python",
   "name": "python3"
  },
  "language_info": {
   "codemirror_mode": {
    "name": "ipython",
    "version": 3
   },
   "file_extension": ".py",
   "mimetype": "text/x-python",
   "name": "python",
   "nbconvert_exporter": "python",
   "pygments_lexer": "ipython3",
   "version": "3.10.13"
  },
  "papermill": {
   "default_parameters": {},
   "duration": 6.477506,
   "end_time": "2024-03-06T22:09:54.181676",
   "environment_variables": {},
   "exception": null,
   "input_path": "__notebook__.ipynb",
   "output_path": "__notebook__.ipynb",
   "parameters": {},
   "start_time": "2024-03-06T22:09:47.704170",
   "version": "2.5.0"
  }
 },
 "nbformat": 4,
 "nbformat_minor": 5
}
